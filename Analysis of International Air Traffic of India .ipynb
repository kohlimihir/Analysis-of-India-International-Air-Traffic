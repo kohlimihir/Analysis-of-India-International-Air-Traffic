{
 "cells": [
  {
   "cell_type": "code",
   "execution_count": 1,
   "id": "bed7c6bb",
   "metadata": {},
   "outputs": [
    {
     "name": "stderr",
     "output_type": "stream",
     "text": [
      "Registered S3 methods overwritten by 'ggplot2':\n",
      "  method         from \n",
      "  [.quosures     rlang\n",
      "  c.quosures     rlang\n",
      "  print.quosures rlang\n",
      "Registered S3 method overwritten by 'rvest':\n",
      "  method            from\n",
      "  read_xml.response xml2\n",
      "-- Attaching packages --------------------------------------- tidyverse 1.2.1 --\n",
      "v ggplot2 3.1.1       v purrr   0.3.2  \n",
      "v tibble  2.1.1       v dplyr   0.8.0.1\n",
      "v tidyr   0.8.3       v stringr 1.4.0  \n",
      "v readr   1.3.1       v forcats 0.4.0  \n",
      "-- Conflicts ------------------------------------------ tidyverse_conflicts() --\n",
      "x dplyr::filter() masks stats::filter()\n",
      "x dplyr::lag()    masks stats::lag()\n"
     ]
    }
   ],
   "source": [
    "library(tidyverse)"
   ]
  },
  {
   "cell_type": "code",
   "execution_count": 2,
   "id": "a5433f8b",
   "metadata": {},
   "outputs": [
    {
     "name": "stdout",
     "output_type": "stream",
     "text": [
      "Observations: 2,334\n",
      "Variables: 9\n",
      "$ YEAR                  <int> 2015, 2015, 2015, 2015, 2015, 2015, 2015, 201...\n",
      "$ MONTH                 <fct> JAN, JAN, JAN, JAN, JAN, JAN, JAN, JAN, JAN, ...\n",
      "$ QUARTER               <fct> Q1, Q1, Q1, Q1, Q1, Q1, Q1, Q1, Q1, Q1, Q1, Q...\n",
      "$ AIRLINE.NAME          <fct> AIR INDIA, AIR INDIA EXPRESS, INDIGO, JET AIR...\n",
      "$ CARRIER.TYPE          <fct> DOMESTIC, DOMESTIC, DOMESTIC, DOMESTIC, DOMES...\n",
      "$ PASSENGERS.TO.INDIA   <int> 258876, 95581, 68112, 320853, 37882, 5088, 0,...\n",
      "$ PASSENGERS.FROM.INDIA <int> 274220, 116600, 74212, 332116, 42468, 6901, 0...\n",
      "$ FREIGHT.TO.INDIA      <dbl> 3320.626, 0.000, 320.000, 4173.874, 0.000, 7....\n",
      "$ FREIGHT.FROM.INDIA    <dbl> 4186.302, 0.000, 1812.000, 5383.515, 115.680,...\n"
     ]
    }
   ],
   "source": [
    "##Importing data\n",
    "data <- read.csv(\"Airlinewise Monthly International Air Traffic To And From The Indian Territory.csv\")\n",
    "##Overview of data\n",
    "glimpse(data)"
   ]
  },
  {
   "cell_type": "code",
   "execution_count": 3,
   "id": "2e24963c",
   "metadata": {},
   "outputs": [
    {
     "data": {
      "text/html": [
       "<ol class=list-inline>\n",
       "\t<li>2334</li>\n",
       "\t<li>9</li>\n",
       "</ol>\n"
      ],
      "text/latex": [
       "\\begin{enumerate*}\n",
       "\\item 2334\n",
       "\\item 9\n",
       "\\end{enumerate*}\n"
      ],
      "text/markdown": [
       "1. 2334\n",
       "2. 9\n",
       "\n",
       "\n"
      ],
      "text/plain": [
       "[1] 2334    9"
      ]
     },
     "metadata": {},
     "output_type": "display_data"
    }
   ],
   "source": [
    "##Dimension of data\n",
    "dim(data)"
   ]
  },
  {
   "cell_type": "code",
   "execution_count": 4,
   "id": "9481374c",
   "metadata": {},
   "outputs": [
    {
     "data": {
      "text/html": [
       "<dl>\n",
       "\t<dt>$YEAR</dt>\n",
       "\t\t<dd>0</dd>\n",
       "\t<dt>$MONTH</dt>\n",
       "\t\t<dd>0</dd>\n",
       "\t<dt>$QUARTER</dt>\n",
       "\t\t<dd>0</dd>\n",
       "\t<dt>$AIRLINE.NAME</dt>\n",
       "\t\t<dd>0</dd>\n",
       "\t<dt>$CARRIER.TYPE</dt>\n",
       "\t\t<dd>0</dd>\n",
       "\t<dt>$PASSENGERS.TO.INDIA</dt>\n",
       "\t\t<dd>1</dd>\n",
       "\t<dt>$PASSENGERS.FROM.INDIA</dt>\n",
       "\t\t<dd>0</dd>\n",
       "\t<dt>$FREIGHT.TO.INDIA</dt>\n",
       "\t\t<dd>0</dd>\n",
       "\t<dt>$FREIGHT.FROM.INDIA</dt>\n",
       "\t\t<dd>0</dd>\n",
       "</dl>\n"
      ],
      "text/latex": [
       "\\begin{description}\n",
       "\\item[\\$YEAR] 0\n",
       "\\item[\\$MONTH] 0\n",
       "\\item[\\$QUARTER] 0\n",
       "\\item[\\$AIRLINE.NAME] 0\n",
       "\\item[\\$CARRIER.TYPE] 0\n",
       "\\item[\\$PASSENGERS.TO.INDIA] 1\n",
       "\\item[\\$PASSENGERS.FROM.INDIA] 0\n",
       "\\item[\\$FREIGHT.TO.INDIA] 0\n",
       "\\item[\\$FREIGHT.FROM.INDIA] 0\n",
       "\\end{description}\n"
      ],
      "text/markdown": [
       "$YEAR\n",
       ":   0\n",
       "$MONTH\n",
       ":   0\n",
       "$QUARTER\n",
       ":   0\n",
       "$AIRLINE.NAME\n",
       ":   0\n",
       "$CARRIER.TYPE\n",
       ":   0\n",
       "$PASSENGERS.TO.INDIA\n",
       ":   1\n",
       "$PASSENGERS.FROM.INDIA\n",
       ":   0\n",
       "$FREIGHT.TO.INDIA\n",
       ":   0\n",
       "$FREIGHT.FROM.INDIA\n",
       ":   0\n",
       "\n",
       "\n"
      ],
      "text/plain": [
       "$YEAR\n",
       "[1] 0\n",
       "\n",
       "$MONTH\n",
       "[1] 0\n",
       "\n",
       "$QUARTER\n",
       "[1] 0\n",
       "\n",
       "$AIRLINE.NAME\n",
       "[1] 0\n",
       "\n",
       "$CARRIER.TYPE\n",
       "[1] 0\n",
       "\n",
       "$PASSENGERS.TO.INDIA\n",
       "[1] 1\n",
       "\n",
       "$PASSENGERS.FROM.INDIA\n",
       "[1] 0\n",
       "\n",
       "$FREIGHT.TO.INDIA\n",
       "[1] 0\n",
       "\n",
       "$FREIGHT.FROM.INDIA\n",
       "[1] 0\n"
      ]
     },
     "metadata": {},
     "output_type": "display_data"
    }
   ],
   "source": [
    "##Checking for NA values\n",
    "data%>%map(~sum(is.na(.)))"
   ]
  },
  {
   "cell_type": "code",
   "execution_count": 5,
   "id": "e615b081",
   "metadata": {},
   "outputs": [
    {
     "data": {
      "text/html": [
       "<dl>\n",
       "\t<dt>$YEAR</dt>\n",
       "\t\t<dd>0</dd>\n",
       "\t<dt>$MONTH</dt>\n",
       "\t\t<dd>0</dd>\n",
       "\t<dt>$QUARTER</dt>\n",
       "\t\t<dd>0</dd>\n",
       "\t<dt>$AIRLINE.NAME</dt>\n",
       "\t\t<dd>0</dd>\n",
       "\t<dt>$CARRIER.TYPE</dt>\n",
       "\t\t<dd>0</dd>\n",
       "\t<dt>$PASSENGERS.TO.INDIA</dt>\n",
       "\t\t<dd>0</dd>\n",
       "\t<dt>$PASSENGERS.FROM.INDIA</dt>\n",
       "\t\t<dd>0</dd>\n",
       "\t<dt>$FREIGHT.TO.INDIA</dt>\n",
       "\t\t<dd>0</dd>\n",
       "\t<dt>$FREIGHT.FROM.INDIA</dt>\n",
       "\t\t<dd>0</dd>\n",
       "</dl>\n"
      ],
      "text/latex": [
       "\\begin{description}\n",
       "\\item[\\$YEAR] 0\n",
       "\\item[\\$MONTH] 0\n",
       "\\item[\\$QUARTER] 0\n",
       "\\item[\\$AIRLINE.NAME] 0\n",
       "\\item[\\$CARRIER.TYPE] 0\n",
       "\\item[\\$PASSENGERS.TO.INDIA] 0\n",
       "\\item[\\$PASSENGERS.FROM.INDIA] 0\n",
       "\\item[\\$FREIGHT.TO.INDIA] 0\n",
       "\\item[\\$FREIGHT.FROM.INDIA] 0\n",
       "\\end{description}\n"
      ],
      "text/markdown": [
       "$YEAR\n",
       ":   0\n",
       "$MONTH\n",
       ":   0\n",
       "$QUARTER\n",
       ":   0\n",
       "$AIRLINE.NAME\n",
       ":   0\n",
       "$CARRIER.TYPE\n",
       ":   0\n",
       "$PASSENGERS.TO.INDIA\n",
       ":   0\n",
       "$PASSENGERS.FROM.INDIA\n",
       ":   0\n",
       "$FREIGHT.TO.INDIA\n",
       ":   0\n",
       "$FREIGHT.FROM.INDIA\n",
       ":   0\n",
       "\n",
       "\n"
      ],
      "text/plain": [
       "$YEAR\n",
       "[1] 0\n",
       "\n",
       "$MONTH\n",
       "[1] 0\n",
       "\n",
       "$QUARTER\n",
       "[1] 0\n",
       "\n",
       "$AIRLINE.NAME\n",
       "[1] 0\n",
       "\n",
       "$CARRIER.TYPE\n",
       "[1] 0\n",
       "\n",
       "$PASSENGERS.TO.INDIA\n",
       "[1] 0\n",
       "\n",
       "$PASSENGERS.FROM.INDIA\n",
       "[1] 0\n",
       "\n",
       "$FREIGHT.TO.INDIA\n",
       "[1] 0\n",
       "\n",
       "$FREIGHT.FROM.INDIA\n",
       "[1] 0\n"
      ]
     },
     "metadata": {},
     "output_type": "display_data"
    }
   ],
   "source": [
    "##Replacing the NA value with zero\n",
    "data<-data%>%replace_na(list(PASSENGERS.TO.INDIA=0))\n",
    "data%>%map(~sum(is.na(.)))"
   ]
  },
  {
   "cell_type": "code",
   "execution_count": 6,
   "id": "5bf87bda",
   "metadata": {},
   "outputs": [
    {
     "data": {
      "text/html": [
       "<dl class=dl-horizontal>\n",
       "\t<dt>YEAR</dt>\n",
       "\t\t<dd>'integer'</dd>\n",
       "\t<dt>MONTH</dt>\n",
       "\t\t<dd>'integer'</dd>\n",
       "\t<dt>QUARTER</dt>\n",
       "\t\t<dd>'integer'</dd>\n",
       "\t<dt>AIRLINE.NAME</dt>\n",
       "\t\t<dd>'integer'</dd>\n",
       "\t<dt>CARRIER.TYPE</dt>\n",
       "\t\t<dd>'integer'</dd>\n",
       "\t<dt>PASSENGERS.TO.INDIA</dt>\n",
       "\t\t<dd>'double'</dd>\n",
       "\t<dt>PASSENGERS.FROM.INDIA</dt>\n",
       "\t\t<dd>'integer'</dd>\n",
       "\t<dt>FREIGHT.TO.INDIA</dt>\n",
       "\t\t<dd>'double'</dd>\n",
       "\t<dt>FREIGHT.FROM.INDIA</dt>\n",
       "\t\t<dd>'double'</dd>\n",
       "</dl>\n"
      ],
      "text/latex": [
       "\\begin{description*}\n",
       "\\item[YEAR] 'integer'\n",
       "\\item[MONTH] 'integer'\n",
       "\\item[QUARTER] 'integer'\n",
       "\\item[AIRLINE.NAME] 'integer'\n",
       "\\item[CARRIER.TYPE] 'integer'\n",
       "\\item[PASSENGERS.TO.INDIA] 'double'\n",
       "\\item[PASSENGERS.FROM.INDIA] 'integer'\n",
       "\\item[FREIGHT.TO.INDIA] 'double'\n",
       "\\item[FREIGHT.FROM.INDIA] 'double'\n",
       "\\end{description*}\n"
      ],
      "text/markdown": [
       "YEAR\n",
       ":   'integer'MONTH\n",
       ":   'integer'QUARTER\n",
       ":   'integer'AIRLINE.NAME\n",
       ":   'integer'CARRIER.TYPE\n",
       ":   'integer'PASSENGERS.TO.INDIA\n",
       ":   'double'PASSENGERS.FROM.INDIA\n",
       ":   'integer'FREIGHT.TO.INDIA\n",
       ":   'double'FREIGHT.FROM.INDIA\n",
       ":   'double'\n",
       "\n"
      ],
      "text/plain": [
       "                 YEAR                 MONTH               QUARTER \n",
       "            \"integer\"             \"integer\"             \"integer\" \n",
       "         AIRLINE.NAME          CARRIER.TYPE   PASSENGERS.TO.INDIA \n",
       "            \"integer\"             \"integer\"              \"double\" \n",
       "PASSENGERS.FROM.INDIA      FREIGHT.TO.INDIA    FREIGHT.FROM.INDIA \n",
       "            \"integer\"              \"double\"              \"double\" "
      ]
     },
     "metadata": {},
     "output_type": "display_data"
    }
   ],
   "source": [
    "##Checking data type in each column\n",
    "sapply(data,typeof)"
   ]
  },
  {
   "cell_type": "code",
   "execution_count": 7,
   "id": "971fd041",
   "metadata": {},
   "outputs": [
    {
     "data": {
      "text/html": [
       "<dl class=dl-horizontal>\n",
       "\t<dt>YEAR</dt>\n",
       "\t\t<dd>'integer'</dd>\n",
       "\t<dt>MONTH</dt>\n",
       "\t\t<dd>'integer'</dd>\n",
       "\t<dt>QUARTER</dt>\n",
       "\t\t<dd>'integer'</dd>\n",
       "\t<dt>AIRLINE.NAME</dt>\n",
       "\t\t<dd>'integer'</dd>\n",
       "\t<dt>CARRIER.TYPE</dt>\n",
       "\t\t<dd>'integer'</dd>\n",
       "\t<dt>PASSENGERS.TO.INDIA</dt>\n",
       "\t\t<dd>'integer'</dd>\n",
       "\t<dt>PASSENGERS.FROM.INDIA</dt>\n",
       "\t\t<dd>'integer'</dd>\n",
       "\t<dt>FREIGHT.TO.INDIA</dt>\n",
       "\t\t<dd>'integer'</dd>\n",
       "\t<dt>FREIGHT.FROM.INDIA</dt>\n",
       "\t\t<dd>'integer'</dd>\n",
       "</dl>\n"
      ],
      "text/latex": [
       "\\begin{description*}\n",
       "\\item[YEAR] 'integer'\n",
       "\\item[MONTH] 'integer'\n",
       "\\item[QUARTER] 'integer'\n",
       "\\item[AIRLINE.NAME] 'integer'\n",
       "\\item[CARRIER.TYPE] 'integer'\n",
       "\\item[PASSENGERS.TO.INDIA] 'integer'\n",
       "\\item[PASSENGERS.FROM.INDIA] 'integer'\n",
       "\\item[FREIGHT.TO.INDIA] 'integer'\n",
       "\\item[FREIGHT.FROM.INDIA] 'integer'\n",
       "\\end{description*}\n"
      ],
      "text/markdown": [
       "YEAR\n",
       ":   'integer'MONTH\n",
       ":   'integer'QUARTER\n",
       ":   'integer'AIRLINE.NAME\n",
       ":   'integer'CARRIER.TYPE\n",
       ":   'integer'PASSENGERS.TO.INDIA\n",
       ":   'integer'PASSENGERS.FROM.INDIA\n",
       ":   'integer'FREIGHT.TO.INDIA\n",
       ":   'integer'FREIGHT.FROM.INDIA\n",
       ":   'integer'\n",
       "\n"
      ],
      "text/plain": [
       "                 YEAR                 MONTH               QUARTER \n",
       "            \"integer\"             \"integer\"             \"integer\" \n",
       "         AIRLINE.NAME          CARRIER.TYPE   PASSENGERS.TO.INDIA \n",
       "            \"integer\"             \"integer\"             \"integer\" \n",
       "PASSENGERS.FROM.INDIA      FREIGHT.TO.INDIA    FREIGHT.FROM.INDIA \n",
       "            \"integer\"             \"integer\"             \"integer\" "
      ]
     },
     "metadata": {},
     "output_type": "display_data"
    }
   ],
   "source": [
    "##Changing all non integer numeric data to integer\n",
    "data1<-data%>%mutate_all(type.convert)%>%mutate_if(is.double,as.integer)\n",
    "sapply(data1,typeof)"
   ]
  },
  {
   "cell_type": "code",
   "execution_count": 8,
   "id": "68033e91",
   "metadata": {},
   "outputs": [
    {
     "data": {
      "text/plain": [
       "   Min. 1st Qu.  Median    Mean 3rd Qu.    Max. \n",
       "      0    1484    4954   24466   23284  402497 "
      ]
     },
     "metadata": {},
     "output_type": "display_data"
    }
   ],
   "source": [
    "##Analysis on Passenger to India\n",
    "\n",
    "##Summary\n",
    "summary(data1$PASSENGERS.TO.INDIA)\n"
   ]
  },
  {
   "cell_type": "code",
   "execution_count": 9,
   "id": "5ae5b470",
   "metadata": {},
   "outputs": [
    {
     "data": {
      "image/png": "[encoded data removed]",
      "text/plain": [
       "plot without title"
      ]
     },
     "metadata": {},
     "output_type": "display_data"
    }
   ],
   "source": [
    "#Histogram showing passenger to India vs count\n",
    "ggplot(data1,aes(x=PASSENGERS.TO.INDIA))+\n",
    "  geom_histogram(binwidth = 25000,fill=\"cadetblue1\",col=\"black\")+\n",
    "  scale_y_continuous(trans=\"log10\")+\n",
    "  theme_bw()+\n",
    "  coord_flip()+\n",
    "  labs(x=\"Passenger to India \", y=\"Count\") +\n",
    "  ggtitle(\"Count of Passenger to India\")"
   ]
  },
  {
   "cell_type": "code",
   "execution_count": 10,
   "id": "c18b0023",
   "metadata": {},
   "outputs": [
    {
     "name": "stderr",
     "output_type": "stream",
     "text": [
      "Warning message:\n",
      "\"Removed 1 rows containing non-finite values (stat_density).\""
     ]
    },
    {
     "data": {
      "image/png": "[encoded data removed]",
      "text/plain": [
       "plot without title"
      ]
     },
     "metadata": {},
     "output_type": "display_data"
    }
   ],
   "source": [
    "#Kernel Density Plot\n",
    "ggplot(data1,aes(x=PASSENGERS.TO.INDIA))+\n",
    "  geom_density(colour=\"blue\",fill=\"pink\")+\n",
    "  scale_x_continuous(limits = c(-50000,400000))+\n",
    "  theme_bw()+\n",
    "  ggtitle(\"Kernel Density Plot\")+\n",
    "  labs(x=\"Passenger to India\", y= \"Density\")"
   ]
  },
  {
   "cell_type": "code",
   "execution_count": 11,
   "id": "369986a0",
   "metadata": {},
   "outputs": [
    {
     "name": "stderr",
     "output_type": "stream",
     "text": [
      "Warning message:\n",
      "\"Removed 304 rows containing non-finite values (stat_boxplot).\""
     ]
    },
    {
     "data": {
      "image/png": "[encoded data removed]",
      "text/plain": [
       "plot without title"
      ]
     },
     "metadata": {},
     "output_type": "display_data"
    }
   ],
   "source": [
    "#boxplot\n",
    "ggplot(data1, aes(y = log(PASSENGERS.TO.INDIA),base=10)) + \n",
    "  geom_boxplot(fill=\"lightblue\")+\n",
    "  theme_bw()+\n",
    "  ggtitle(\"Boxplot\")+\n",
    "  labs(y=\"Passenger to India (Log Scale)\")+\n",
    "  scale_x_continuous(limit=c(-0.9,0.9))"
   ]
  },
  {
   "cell_type": "code",
   "execution_count": 12,
   "id": "807f4078",
   "metadata": {},
   "outputs": [
    {
     "data": {
      "text/html": [
       "<table>\n",
       "<thead><tr><th scope=col>YEAR</th><th scope=col>Total_Passenger</th></tr></thead>\n",
       "<tbody>\n",
       "\t<tr><td>2015    </td><td>23781640</td></tr>\n",
       "\t<tr><td>2016    </td><td>26543689</td></tr>\n",
       "\t<tr><td>2017    </td><td> 6778304</td></tr>\n",
       "</tbody>\n",
       "</table>\n"
      ],
      "text/latex": [
       "\\begin{tabular}{r|ll}\n",
       " YEAR & Total\\_Passenger\\\\\n",
       "\\hline\n",
       "\t 2015     & 23781640\\\\\n",
       "\t 2016     & 26543689\\\\\n",
       "\t 2017     &  6778304\\\\\n",
       "\\end{tabular}\n"
      ],
      "text/markdown": [
       "\n",
       "| YEAR | Total_Passenger |\n",
       "|---|---|\n",
       "| 2015     | 23781640 |\n",
       "| 2016     | 26543689 |\n",
       "| 2017     |  6778304 |\n",
       "\n"
      ],
      "text/plain": [
       "  YEAR Total_Passenger\n",
       "1 2015 23781640       \n",
       "2 2016 26543689       \n",
       "3 2017  6778304       "
      ]
     },
     "metadata": {},
     "output_type": "display_data"
    }
   ],
   "source": [
    "#total passenger to india in year 2015, 2016 and 2017\n",
    "data1%>%group_by(YEAR)%>%summarise(Total_Passenger=sum(PASSENGERS.TO.INDIA))"
   ]
  },
  {
   "cell_type": "code",
   "execution_count": 13,
   "id": "5d325d40",
   "metadata": {},
   "outputs": [
    {
     "data": {
      "text/html": [
       "<table>\n",
       "<thead><tr><th scope=col>AIRLINE.NAME</th><th scope=col>Total_Passenger</th></tr></thead>\n",
       "<tbody>\n",
       "\t<tr><td>JET AIRWAYS      </td><td>8320544          </td></tr>\n",
       "\t<tr><td>AIR INDIA        </td><td>6417414          </td></tr>\n",
       "\t<tr><td>EMIRATES AIRLINE </td><td>5981862          </td></tr>\n",
       "\t<tr><td>AIR INDIA EXPRESS</td><td>3099689          </td></tr>\n",
       "\t<tr><td>ETIHAD AIRLINES  </td><td>2715962          </td></tr>\n",
       "\t<tr><td>AIR ARABIA       </td><td>1964928          </td></tr>\n",
       "\t<tr><td>INDIGO           </td><td>1929303          </td></tr>\n",
       "\t<tr><td>OMAN AIR         </td><td>1758656          </td></tr>\n",
       "\t<tr><td>QATAR AIRWAYS    </td><td>1654189          </td></tr>\n",
       "\t<tr><td>SAUDIA           </td><td>1587708          </td></tr>\n",
       "</tbody>\n",
       "</table>\n"
      ],
      "text/latex": [
       "\\begin{tabular}{r|ll}\n",
       " AIRLINE.NAME & Total\\_Passenger\\\\\n",
       "\\hline\n",
       "\t JET AIRWAYS       & 8320544          \\\\\n",
       "\t AIR INDIA         & 6417414          \\\\\n",
       "\t EMIRATES AIRLINE  & 5981862          \\\\\n",
       "\t AIR INDIA EXPRESS & 3099689          \\\\\n",
       "\t ETIHAD AIRLINES   & 2715962          \\\\\n",
       "\t AIR ARABIA        & 1964928          \\\\\n",
       "\t INDIGO            & 1929303          \\\\\n",
       "\t OMAN AIR          & 1758656          \\\\\n",
       "\t QATAR AIRWAYS     & 1654189          \\\\\n",
       "\t SAUDIA            & 1587708          \\\\\n",
       "\\end{tabular}\n"
      ],
      "text/markdown": [
       "\n",
       "| AIRLINE.NAME | Total_Passenger |\n",
       "|---|---|\n",
       "| JET AIRWAYS       | 8320544           |\n",
       "| AIR INDIA         | 6417414           |\n",
       "| EMIRATES AIRLINE  | 5981862           |\n",
       "| AIR INDIA EXPRESS | 3099689           |\n",
       "| ETIHAD AIRLINES   | 2715962           |\n",
       "| AIR ARABIA        | 1964928           |\n",
       "| INDIGO            | 1929303           |\n",
       "| OMAN AIR          | 1758656           |\n",
       "| QATAR AIRWAYS     | 1654189           |\n",
       "| SAUDIA            | 1587708           |\n",
       "\n"
      ],
      "text/plain": [
       "   AIRLINE.NAME      Total_Passenger\n",
       "1  JET AIRWAYS       8320544        \n",
       "2  AIR INDIA         6417414        \n",
       "3  EMIRATES AIRLINE  5981862        \n",
       "4  AIR INDIA EXPRESS 3099689        \n",
       "5  ETIHAD AIRLINES   2715962        \n",
       "6  AIR ARABIA        1964928        \n",
       "7  INDIGO            1929303        \n",
       "8  OMAN AIR          1758656        \n",
       "9  QATAR AIRWAYS     1654189        \n",
       "10 SAUDIA            1587708        "
      ]
     },
     "metadata": {},
     "output_type": "display_data"
    }
   ],
   "source": [
    "#Top 10 airlines carrying highest passenger to India\n",
    "d1<-data1%>%\n",
    "       group_by(AIRLINE.NAME)%>%\n",
    "       summarise(Total_Passenger=sum(PASSENGERS.TO.INDIA))\n",
    "head(arrange(d1,desc(d1$Total_Passenger)),10)"
   ]
  },
  {
   "cell_type": "code",
   "execution_count": 14,
   "id": "6fb3b571",
   "metadata": {},
   "outputs": [
    {
     "data": {
      "text/html": [
       "<table>\n",
       "<thead><tr><th scope=col>YEAR</th><th scope=col>Q1</th><th scope=col>Q2</th><th scope=col>Q3</th><th scope=col>Q4</th></tr></thead>\n",
       "<tbody>\n",
       "\t<tr><td>2015   </td><td>5712230</td><td>5876964</td><td>5711102</td><td>6481344</td></tr>\n",
       "\t<tr><td>2016   </td><td>6343530</td><td>6521248</td><td>6515859</td><td>7163052</td></tr>\n",
       "\t<tr><td>2017   </td><td>6778304</td><td>     NA</td><td>     NA</td><td>     NA</td></tr>\n",
       "</tbody>\n",
       "</table>\n"
      ],
      "text/latex": [
       "\\begin{tabular}{r|lllll}\n",
       " YEAR & Q1 & Q2 & Q3 & Q4\\\\\n",
       "\\hline\n",
       "\t 2015    & 5712230 & 5876964 & 5711102 & 6481344\\\\\n",
       "\t 2016    & 6343530 & 6521248 & 6515859 & 7163052\\\\\n",
       "\t 2017    & 6778304 &      NA &      NA &      NA\\\\\n",
       "\\end{tabular}\n"
      ],
      "text/markdown": [
       "\n",
       "| YEAR | Q1 | Q2 | Q3 | Q4 |\n",
       "|---|---|---|---|---|\n",
       "| 2015    | 5712230 | 5876964 | 5711102 | 6481344 |\n",
       "| 2016    | 6343530 | 6521248 | 6515859 | 7163052 |\n",
       "| 2017    | 6778304 |      NA |      NA |      NA |\n",
       "\n"
      ],
      "text/plain": [
       "  YEAR Q1      Q2      Q3      Q4     \n",
       "1 2015 5712230 5876964 5711102 6481344\n",
       "2 2016 6343530 6521248 6515859 7163052\n",
       "3 2017 6778304      NA      NA      NA"
      ]
     },
     "metadata": {},
     "output_type": "display_data"
    }
   ],
   "source": [
    "#Total passenger to India Quarter wise\n",
    "data1 %>%\n",
    "  group_by(YEAR, QUARTER) %>%\n",
    "  summarise(Total_Passenger = sum(PASSENGERS.TO.INDIA)) %>%\n",
    "  spread(key = QUARTER, value = Total_Passenger)"
   ]
  },
  {
   "cell_type": "code",
   "execution_count": 15,
   "id": "d5127aaf",
   "metadata": {},
   "outputs": [
    {
     "data": {
      "text/plain": [
       "   Min. 1st Qu.  Median    Mean 3rd Qu.    Max. \n",
       "      0    1629    5264   25453   23419  400155 "
      ]
     },
     "metadata": {},
     "output_type": "display_data"
    }
   ],
   "source": [
    "##Analysis on Passenger from India\n",
    "summary(data1$PASSENGERS.FROM.INDIA)"
   ]
  },
  {
   "cell_type": "code",
   "execution_count": 16,
   "id": "6e031728",
   "metadata": {},
   "outputs": [
    {
     "data": {
      "image/png": "[encoded data removed]",
      "text/plain": [
       "plot without title"
      ]
     },
     "metadata": {},
     "output_type": "display_data"
    }
   ],
   "source": [
    "#Histogram showing passenger from india vs count\n",
    "ggplot(data1,aes(x=PASSENGERS.FROM.INDIA))+\n",
    "  geom_histogram(binwidth = 25000,fill=\"cadetblue1\",col=\"black\")+\n",
    "  scale_y_continuous(trans=\"log10\")+\n",
    "  theme_bw()+\n",
    "  coord_flip()+\n",
    "  labs(x=\"Passenger from India \", y=\"Count\") +\n",
    "  ggtitle(\"Count of Passenger from India\")"
   ]
  },
  {
   "cell_type": "code",
   "execution_count": 17,
   "id": "4b28c1ed",
   "metadata": {},
   "outputs": [
    {
     "name": "stderr",
     "output_type": "stream",
     "text": [
      "Warning message:\n",
      "\"Removed 1 rows containing non-finite values (stat_density).\""
     ]
    },
    {
     "data": {
      "image/png": "[encoded data removed]",
      "text/plain": [
       "plot without title"
      ]
     },
     "metadata": {},
     "output_type": "display_data"
    }
   ],
   "source": [
    "#Kernel Density Plot\n",
    "ggplot(data1,aes(x=PASSENGERS.FROM.INDIA))+\n",
    "  geom_density(colour=\"blue\",fill=\"pink\")+\n",
    "  scale_x_continuous(limits = c(-50000,400000))+\n",
    "  theme_bw()+\n",
    "  ggtitle(\"Kernel Density Plot\")+\n",
    "  labs(x=\"Passenger from India\", y= \"Density\")"
   ]
  },
  {
   "cell_type": "code",
   "execution_count": 18,
   "id": "16ea61e6",
   "metadata": {},
   "outputs": [
    {
     "name": "stderr",
     "output_type": "stream",
     "text": [
      "Warning message:\n",
      "\"Removed 283 rows containing non-finite values (stat_boxplot).\""
     ]
    },
    {
     "data": {
      "image/png": "[encoded data removed]",
      "text/plain": [
       "plot without title"
      ]
     },
     "metadata": {},
     "output_type": "display_data"
    }
   ],
   "source": [
    "#boxplot\n",
    "ggplot(data1, aes(y = log(PASSENGERS.FROM.INDIA),base=10)) + \n",
    "  geom_boxplot(fill=\"lightblue\")+\n",
    "  theme_bw()+\n",
    "  ggtitle(\"Boxplot\")+\n",
    "  labs(y=\"Passenger FROM India (Log Scale)\")+\n",
    "  scale_x_continuous(limit=c(-0.9,0.9))"
   ]
  },
  {
   "cell_type": "code",
   "execution_count": 19,
   "id": "d1a4989d",
   "metadata": {},
   "outputs": [
    {
     "data": {
      "text/html": [
       "<table>\n",
       "<thead><tr><th scope=col>YEAR</th><th scope=col>Total_Passenger</th></tr></thead>\n",
       "<tbody>\n",
       "\t<tr><td>2015    </td><td>24858956</td></tr>\n",
       "\t<tr><td>2016    </td><td>27122472</td></tr>\n",
       "\t<tr><td>2017    </td><td> 7424671</td></tr>\n",
       "</tbody>\n",
       "</table>\n"
      ],
      "text/latex": [
       "\\begin{tabular}{r|ll}\n",
       " YEAR & Total\\_Passenger\\\\\n",
       "\\hline\n",
       "\t 2015     & 24858956\\\\\n",
       "\t 2016     & 27122472\\\\\n",
       "\t 2017     &  7424671\\\\\n",
       "\\end{tabular}\n"
      ],
      "text/markdown": [
       "\n",
       "| YEAR | Total_Passenger |\n",
       "|---|---|\n",
       "| 2015     | 24858956 |\n",
       "| 2016     | 27122472 |\n",
       "| 2017     |  7424671 |\n",
       "\n"
      ],
      "text/plain": [
       "  YEAR Total_Passenger\n",
       "1 2015 24858956       \n",
       "2 2016 27122472       \n",
       "3 2017  7424671       "
      ]
     },
     "metadata": {},
     "output_type": "display_data"
    }
   ],
   "source": [
    "#total passenger from india in year 2015, 2016 and 2017\n",
    "data1%>%group_by(YEAR)%>%summarise(Total_Passenger=sum(PASSENGERS.FROM.INDIA))"
   ]
  },
  {
   "cell_type": "code",
   "execution_count": 20,
   "id": "13866af8",
   "metadata": {},
   "outputs": [
    {
     "data": {
      "text/html": [
       "<table>\n",
       "<thead><tr><th scope=col>AIRLINE.NAME</th><th scope=col>Total_Passenger</th></tr></thead>\n",
       "<tbody>\n",
       "\t<tr><td>JET AIRWAYS      </td><td>8471096          </td></tr>\n",
       "\t<tr><td>AIR INDIA        </td><td>6495056          </td></tr>\n",
       "\t<tr><td>EMIRATES AIRLINE </td><td>6214850          </td></tr>\n",
       "\t<tr><td>AIR INDIA EXPRESS</td><td>3433720          </td></tr>\n",
       "\t<tr><td>ETIHAD AIRLINES  </td><td>2813097          </td></tr>\n",
       "\t<tr><td>INDIGO           </td><td>2044693          </td></tr>\n",
       "\t<tr><td>AIR ARABIA       </td><td>2031394          </td></tr>\n",
       "\t<tr><td>OMAN AIR         </td><td>1802529          </td></tr>\n",
       "\t<tr><td>SAUDIA           </td><td>1701301          </td></tr>\n",
       "\t<tr><td>QATAR AIRWAYS    </td><td>1646102          </td></tr>\n",
       "</tbody>\n",
       "</table>\n"
      ],
      "text/latex": [
       "\\begin{tabular}{r|ll}\n",
       " AIRLINE.NAME & Total\\_Passenger\\\\\n",
       "\\hline\n",
       "\t JET AIRWAYS       & 8471096          \\\\\n",
       "\t AIR INDIA         & 6495056          \\\\\n",
       "\t EMIRATES AIRLINE  & 6214850          \\\\\n",
       "\t AIR INDIA EXPRESS & 3433720          \\\\\n",
       "\t ETIHAD AIRLINES   & 2813097          \\\\\n",
       "\t INDIGO            & 2044693          \\\\\n",
       "\t AIR ARABIA        & 2031394          \\\\\n",
       "\t OMAN AIR          & 1802529          \\\\\n",
       "\t SAUDIA            & 1701301          \\\\\n",
       "\t QATAR AIRWAYS     & 1646102          \\\\\n",
       "\\end{tabular}\n"
      ],
      "text/markdown": [
       "\n",
       "| AIRLINE.NAME | Total_Passenger |\n",
       "|---|---|\n",
       "| JET AIRWAYS       | 8471096           |\n",
       "| AIR INDIA         | 6495056           |\n",
       "| EMIRATES AIRLINE  | 6214850           |\n",
       "| AIR INDIA EXPRESS | 3433720           |\n",
       "| ETIHAD AIRLINES   | 2813097           |\n",
       "| INDIGO            | 2044693           |\n",
       "| AIR ARABIA        | 2031394           |\n",
       "| OMAN AIR          | 1802529           |\n",
       "| SAUDIA            | 1701301           |\n",
       "| QATAR AIRWAYS     | 1646102           |\n",
       "\n"
      ],
      "text/plain": [
       "   AIRLINE.NAME      Total_Passenger\n",
       "1  JET AIRWAYS       8471096        \n",
       "2  AIR INDIA         6495056        \n",
       "3  EMIRATES AIRLINE  6214850        \n",
       "4  AIR INDIA EXPRESS 3433720        \n",
       "5  ETIHAD AIRLINES   2813097        \n",
       "6  INDIGO            2044693        \n",
       "7  AIR ARABIA        2031394        \n",
       "8  OMAN AIR          1802529        \n",
       "9  SAUDIA            1701301        \n",
       "10 QATAR AIRWAYS     1646102        "
      ]
     },
     "metadata": {},
     "output_type": "display_data"
    }
   ],
   "source": [
    "#Top 10 airlines carrying highest passenger from India\n",
    "d2<-data1%>%group_by(AIRLINE.NAME)%>%summarise(Total_Passenger=sum(PASSENGERS.FROM.INDIA))\n",
    "head(arrange(d2,desc(d2$Total_Passenger)),10)"
   ]
  },
  {
   "cell_type": "code",
   "execution_count": 21,
   "id": "ba5ae03f",
   "metadata": {},
   "outputs": [
    {
     "data": {
      "text/html": [
       "<table>\n",
       "<thead><tr><th scope=col>YEAR</th><th scope=col>Q1</th><th scope=col>Q2</th><th scope=col>Q3</th><th scope=col>Q4</th></tr></thead>\n",
       "<tbody>\n",
       "\t<tr><td>2015   </td><td>6376365</td><td>6276379</td><td>6064483</td><td>6141729</td></tr>\n",
       "\t<tr><td>2016   </td><td>6871288</td><td>6775745</td><td>6802518</td><td>6672921</td></tr>\n",
       "\t<tr><td>2017   </td><td>7424671</td><td>     NA</td><td>     NA</td><td>     NA</td></tr>\n",
       "</tbody>\n",
       "</table>\n"
      ],
      "text/latex": [
       "\\begin{tabular}{r|lllll}\n",
       " YEAR & Q1 & Q2 & Q3 & Q4\\\\\n",
       "\\hline\n",
       "\t 2015    & 6376365 & 6276379 & 6064483 & 6141729\\\\\n",
       "\t 2016    & 6871288 & 6775745 & 6802518 & 6672921\\\\\n",
       "\t 2017    & 7424671 &      NA &      NA &      NA\\\\\n",
       "\\end{tabular}\n"
      ],
      "text/markdown": [
       "\n",
       "| YEAR | Q1 | Q2 | Q3 | Q4 |\n",
       "|---|---|---|---|---|\n",
       "| 2015    | 6376365 | 6276379 | 6064483 | 6141729 |\n",
       "| 2016    | 6871288 | 6775745 | 6802518 | 6672921 |\n",
       "| 2017    | 7424671 |      NA |      NA |      NA |\n",
       "\n"
      ],
      "text/plain": [
       "  YEAR Q1      Q2      Q3      Q4     \n",
       "1 2015 6376365 6276379 6064483 6141729\n",
       "2 2016 6871288 6775745 6802518 6672921\n",
       "3 2017 7424671      NA      NA      NA"
      ]
     },
     "metadata": {},
     "output_type": "display_data"
    }
   ],
   "source": [
    "#Total passenger from India Quarter wise\n",
    "data1%>%\n",
    "  group_by(QUARTER,YEAR)%>%\n",
    "  summarise(Total_Passenger=sum(PASSENGERS.FROM.INDIA))%>%\n",
    "  spread(key = QUARTER,value = Total_Passenger)"
   ]
  },
  {
   "cell_type": "code",
   "execution_count": 22,
   "id": "e72a8fa0",
   "metadata": {},
   "outputs": [
    {
     "data": {
      "text/plain": [
       "   Min. 1st Qu.  Median    Mean 3rd Qu.    Max. \n",
       "      0    1484    4954   24466   23284  402497 "
      ]
     },
     "metadata": {},
     "output_type": "display_data"
    }
   ],
   "source": [
    "##Analysis on Freight to India\n",
    "summary(data1$PASSENGERS.TO.INDIA)"
   ]
  },
  {
   "cell_type": "code",
   "execution_count": 23,
   "id": "b1c7218e",
   "metadata": {},
   "outputs": [
    {
     "name": "stderr",
     "output_type": "stream",
     "text": [
      "Warning message:\n",
      "\"Transformation introduced infinite values in continuous y-axis\"Warning message:\n",
      "\"Removed 5 rows containing missing values (geom_bar).\""
     ]
    },
    {
     "data": {
      "image/png": "[encoded data removed]",
      "text/plain": [
       "plot without title"
      ]
     },
     "metadata": {},
     "output_type": "display_data"
    }
   ],
   "source": [
    "#Histogram showing freight to India vs count\n",
    "ggplot(data1,aes(x=FREIGHT.TO.INDIA))+\n",
    "  geom_histogram(binwidth = 1000,fill=\"cadetblue1\",col=\"black\")+\n",
    "  scale_y_continuous(trans=\"log10\")+\n",
    "  theme_bw()+\n",
    "  coord_flip()+\n",
    "  labs(x=\"Freight to India \", y=\"Count\") +\n",
    "  ggtitle(\"Count of Freight to India\")"
   ]
  },
  {
   "cell_type": "code",
   "execution_count": 24,
   "id": "3af4561f",
   "metadata": {},
   "outputs": [
    {
     "name": "stderr",
     "output_type": "stream",
     "text": [
      "Warning message:\n",
      "\"Removed 51 rows containing non-finite values (stat_density).\""
     ]
    },
    {
     "data": {
      "image/png": "[encoded data removed]",
      "text/plain": [
       "plot without title"
      ]
     },
     "metadata": {},
     "output_type": "display_data"
    }
   ],
   "source": [
    "#Kernel Density Plot\n",
    "ggplot(data1,aes(x=FREIGHT.TO.INDIA))+\n",
    "  geom_density(colour=\"blue\",fill=\"pink\")+\n",
    "  scale_x_continuous(limits = c(-200,5000))+\n",
    "  theme_bw()+\n",
    "  ggtitle(\"Kernel Density Plot\")+\n",
    "  labs(x=\"Freight to India\", y= \"Density\")"
   ]
  },
  {
   "cell_type": "code",
   "execution_count": 25,
   "id": "08629b28",
   "metadata": {},
   "outputs": [
    {
     "name": "stderr",
     "output_type": "stream",
     "text": [
      "Warning message:\n",
      "\"Removed 648 rows containing non-finite values (stat_boxplot).\""
     ]
    },
    {
     "data": {
      "image/png": "[encoded data removed]",
      "text/plain": [
       "plot without title"
      ]
     },
     "metadata": {},
     "output_type": "display_data"
    }
   ],
   "source": [
    "#boxplot\n",
    "ggplot(data1, aes(y = log(FREIGHT.TO.INDIA),base=10)) + \n",
    "  geom_boxplot(fill=\"lightblue\")+\n",
    "  theme_bw()+\n",
    "  ggtitle(\"Boxplot\")+\n",
    "  labs(y=\"Freight to India (Log Scale)\")+\n",
    "  scale_x_continuous(limit=c(-0.9,0.9))"
   ]
  },
  {
   "cell_type": "code",
   "execution_count": 26,
   "id": "a138b628",
   "metadata": {},
   "outputs": [
    {
     "data": {
      "text/html": [
       "<table>\n",
       "<thead><tr><th scope=col>YEAR</th><th scope=col>Total_Freight</th></tr></thead>\n",
       "<tbody>\n",
       "\t<tr><td>2015  </td><td>560380</td></tr>\n",
       "\t<tr><td>2016  </td><td>570138</td></tr>\n",
       "\t<tr><td>2017  </td><td>154531</td></tr>\n",
       "</tbody>\n",
       "</table>\n"
      ],
      "text/latex": [
       "\\begin{tabular}{r|ll}\n",
       " YEAR & Total\\_Freight\\\\\n",
       "\\hline\n",
       "\t 2015   & 560380\\\\\n",
       "\t 2016   & 570138\\\\\n",
       "\t 2017   & 154531\\\\\n",
       "\\end{tabular}\n"
      ],
      "text/markdown": [
       "\n",
       "| YEAR | Total_Freight |\n",
       "|---|---|\n",
       "| 2015   | 560380 |\n",
       "| 2016   | 570138 |\n",
       "| 2017   | 154531 |\n",
       "\n"
      ],
      "text/plain": [
       "  YEAR Total_Freight\n",
       "1 2015 560380       \n",
       "2 2016 570138       \n",
       "3 2017 154531       "
      ]
     },
     "metadata": {},
     "output_type": "display_data"
    }
   ],
   "source": [
    "#total Freight to india in year 2015, 2016 and 2017\n",
    "data1%>%group_by(YEAR)%>%summarise(Total_Freight=sum(FREIGHT.TO.INDIA))"
   ]
  },
  {
   "cell_type": "code",
   "execution_count": 27,
   "id": "e97488c9",
   "metadata": {},
   "outputs": [
    {
     "data": {
      "text/html": [
       "<table>\n",
       "<thead><tr><th scope=col>AIRLINE.NAME</th><th scope=col>Total_Freight</th></tr></thead>\n",
       "<tbody>\n",
       "\t<tr><td>CATHAY PACIFIC    </td><td>181439            </td></tr>\n",
       "\t<tr><td>EMIRATES AIRLINE  </td><td>140902            </td></tr>\n",
       "\t<tr><td>JET AIRWAYS       </td><td>116442            </td></tr>\n",
       "\t<tr><td>AIR INDIA         </td><td>101262            </td></tr>\n",
       "\t<tr><td>LUFTHANSA         </td><td> 91516            </td></tr>\n",
       "\t<tr><td>SINGAPORE AIRLINES</td><td> 85251            </td></tr>\n",
       "\t<tr><td>QATAR AIRWAYS     </td><td> 83329            </td></tr>\n",
       "\t<tr><td>THAI AIRWAYS      </td><td> 62187            </td></tr>\n",
       "\t<tr><td>BRITISH AIRWAYS   </td><td> 36203            </td></tr>\n",
       "\t<tr><td>FEDERAL EXPRESS   </td><td> 33370            </td></tr>\n",
       "</tbody>\n",
       "</table>\n"
      ],
      "text/latex": [
       "\\begin{tabular}{r|ll}\n",
       " AIRLINE.NAME & Total\\_Freight\\\\\n",
       "\\hline\n",
       "\t CATHAY PACIFIC     & 181439            \\\\\n",
       "\t EMIRATES AIRLINE   & 140902            \\\\\n",
       "\t JET AIRWAYS        & 116442            \\\\\n",
       "\t AIR INDIA          & 101262            \\\\\n",
       "\t LUFTHANSA          &  91516            \\\\\n",
       "\t SINGAPORE AIRLINES &  85251            \\\\\n",
       "\t QATAR AIRWAYS      &  83329            \\\\\n",
       "\t THAI AIRWAYS       &  62187            \\\\\n",
       "\t BRITISH AIRWAYS    &  36203            \\\\\n",
       "\t FEDERAL EXPRESS    &  33370            \\\\\n",
       "\\end{tabular}\n"
      ],
      "text/markdown": [
       "\n",
       "| AIRLINE.NAME | Total_Freight |\n",
       "|---|---|\n",
       "| CATHAY PACIFIC     | 181439             |\n",
       "| EMIRATES AIRLINE   | 140902             |\n",
       "| JET AIRWAYS        | 116442             |\n",
       "| AIR INDIA          | 101262             |\n",
       "| LUFTHANSA          |  91516             |\n",
       "| SINGAPORE AIRLINES |  85251             |\n",
       "| QATAR AIRWAYS      |  83329             |\n",
       "| THAI AIRWAYS       |  62187             |\n",
       "| BRITISH AIRWAYS    |  36203             |\n",
       "| FEDERAL EXPRESS    |  33370             |\n",
       "\n"
      ],
      "text/plain": [
       "   AIRLINE.NAME       Total_Freight\n",
       "1  CATHAY PACIFIC     181439       \n",
       "2  EMIRATES AIRLINE   140902       \n",
       "3  JET AIRWAYS        116442       \n",
       "4  AIR INDIA          101262       \n",
       "5  LUFTHANSA           91516       \n",
       "6  SINGAPORE AIRLINES  85251       \n",
       "7  QATAR AIRWAYS       83329       \n",
       "8  THAI AIRWAYS        62187       \n",
       "9  BRITISH AIRWAYS     36203       \n",
       "10 FEDERAL EXPRESS     33370       "
      ]
     },
     "metadata": {},
     "output_type": "display_data"
    }
   ],
   "source": [
    "#Top 10 airlines with highest Freight to India\n",
    "d3<-data1%>%group_by(AIRLINE.NAME)%>%summarise(Total_Freight=sum(FREIGHT.TO.INDIA))\n",
    "head(arrange(d3,desc(d3$Total_Freight)),10)"
   ]
  },
  {
   "cell_type": "code",
   "execution_count": 28,
   "id": "217a235c",
   "metadata": {},
   "outputs": [
    {
     "data": {
      "text/html": [
       "<table>\n",
       "<thead><tr><th scope=col>YEAR</th><th scope=col>Q1</th><th scope=col>Q2</th><th scope=col>Q3</th><th scope=col>Q4</th></tr></thead>\n",
       "<tbody>\n",
       "\t<tr><td>2015  </td><td>126297</td><td>138654</td><td>150549</td><td>144880</td></tr>\n",
       "\t<tr><td>2016  </td><td>134139</td><td>137073</td><td>145538</td><td>153388</td></tr>\n",
       "\t<tr><td>2017  </td><td>154531</td><td>    NA</td><td>    NA</td><td>    NA</td></tr>\n",
       "</tbody>\n",
       "</table>\n"
      ],
      "text/latex": [
       "\\begin{tabular}{r|lllll}\n",
       " YEAR & Q1 & Q2 & Q3 & Q4\\\\\n",
       "\\hline\n",
       "\t 2015   & 126297 & 138654 & 150549 & 144880\\\\\n",
       "\t 2016   & 134139 & 137073 & 145538 & 153388\\\\\n",
       "\t 2017   & 154531 &     NA &     NA &     NA\\\\\n",
       "\\end{tabular}\n"
      ],
      "text/markdown": [
       "\n",
       "| YEAR | Q1 | Q2 | Q3 | Q4 |\n",
       "|---|---|---|---|---|\n",
       "| 2015   | 126297 | 138654 | 150549 | 144880 |\n",
       "| 2016   | 134139 | 137073 | 145538 | 153388 |\n",
       "| 2017   | 154531 |     NA |     NA |     NA |\n",
       "\n"
      ],
      "text/plain": [
       "  YEAR Q1     Q2     Q3     Q4    \n",
       "1 2015 126297 138654 150549 144880\n",
       "2 2016 134139 137073 145538 153388\n",
       "3 2017 154531     NA     NA     NA"
      ]
     },
     "metadata": {},
     "output_type": "display_data"
    }
   ],
   "source": [
    "#Total Freight to India Quarter wise\n",
    "data1%>%\n",
    "  group_by(QUARTER,YEAR)%>%\n",
    "  summarise(Total_Freight=sum(FREIGHT.TO.INDIA))%>%\n",
    "  spread(key = QUARTER,value= Total_Freight)"
   ]
  },
  {
   "cell_type": "code",
   "execution_count": 29,
   "id": "cdb8548d",
   "metadata": {},
   "outputs": [
    {
     "data": {
      "text/plain": [
       "   Min. 1st Qu.  Median    Mean 3rd Qu.    Max. \n",
       "    0.0     8.0   154.0   864.9   769.5 48640.0 "
      ]
     },
     "metadata": {},
     "output_type": "display_data"
    }
   ],
   "source": [
    "##Analysis on freight from India \n",
    "summary(data1$FREIGHT.FROM.INDIA)"
   ]
  },
  {
   "cell_type": "code",
   "execution_count": 30,
   "id": "56b7a9c4",
   "metadata": {},
   "outputs": [
    {
     "name": "stderr",
     "output_type": "stream",
     "text": [
      "Warning message:\n",
      "\"Transformation introduced infinite values in continuous y-axis\"Warning message:\n",
      "\"Removed 12 rows containing missing values (geom_bar).\""
     ]
    },
    {
     "data": {
      "image/png": "[encoded data removed]",
      "text/plain": [
       "plot without title"
      ]
     },
     "metadata": {},
     "output_type": "display_data"
    }
   ],
   "source": [
    "#Histogram showing freight from India vs count\n",
    "ggplot(data1,aes(x=FREIGHT.FROM.INDIA))+\n",
    "  geom_histogram(binwidth = 2500,fill=\"cadetblue1\",col=\"black\")+\n",
    "  scale_y_continuous(trans=\"log10\")+\n",
    "  theme_bw()+\n",
    "  coord_flip()+\n",
    "  labs(x=\"Freight from India \", y=\"Count\") +\n",
    "  ggtitle(\"Count of Freight from India\")"
   ]
  },
  {
   "cell_type": "code",
   "execution_count": 31,
   "id": "1ad4cf36",
   "metadata": {},
   "outputs": [
    {
     "name": "stderr",
     "output_type": "stream",
     "text": [
      "Warning message:\n",
      "\"Removed 1 rows containing non-finite values (stat_density).\""
     ]
    },
    {
     "data": {
      "image/png": "[encoded data removed]",
      "text/plain": [
       "plot without title"
      ]
     },
     "metadata": {},
     "output_type": "display_data"
    }
   ],
   "source": [
    "#Kernel Density Plot\n",
    "ggplot(data1,aes(x=FREIGHT.FROM.INDIA))+\n",
    "  geom_density(colour=\"blue\",fill=\"pink\")+\n",
    "  scale_x_continuous(limits = c(-2000,15000))+\n",
    "  theme_bw()+\n",
    "  ggtitle(\"Kernel Density Plot\")+\n",
    "  labs(x=\"Freight from India\", y= \"Density\")"
   ]
  },
  {
   "cell_type": "code",
   "execution_count": 32,
   "id": "d062d72a",
   "metadata": {},
   "outputs": [
    {
     "name": "stderr",
     "output_type": "stream",
     "text": [
      "Warning message:\n",
      "\"Removed 387 rows containing non-finite values (stat_boxplot).\""
     ]
    },
    {
     "data": {
      "image/png": "[encoded data removed]",
      "text/plain": [
       "plot without title"
      ]
     },
     "metadata": {},
     "output_type": "display_data"
    }
   ],
   "source": [
    "#boxplot\n",
    "ggplot(data1, aes(y = log(FREIGHT.FROM.INDIA),base=10)) + \n",
    "  geom_boxplot(fill=\"lightblue\")+\n",
    "  theme_bw()+\n",
    "  ggtitle(\"Boxplot\")+\n",
    "  labs(y=\"Freight from India (Log Scale)\")+\n",
    "  scale_x_continuous(limit=c(-0.9,0.9))"
   ]
  },
  {
   "cell_type": "code",
   "execution_count": 33,
   "id": "7753e089",
   "metadata": {},
   "outputs": [
    {
     "data": {
      "text/html": [
       "<table>\n",
       "<thead><tr><th scope=col>YEAR</th><th scope=col>Total_Freight</th></tr></thead>\n",
       "<tbody>\n",
       "\t<tr><td>2015  </td><td>887378</td></tr>\n",
       "\t<tr><td>2016  </td><td>892804</td></tr>\n",
       "\t<tr><td>2017  </td><td>238437</td></tr>\n",
       "</tbody>\n",
       "</table>\n"
      ],
      "text/latex": [
       "\\begin{tabular}{r|ll}\n",
       " YEAR & Total\\_Freight\\\\\n",
       "\\hline\n",
       "\t 2015   & 887378\\\\\n",
       "\t 2016   & 892804\\\\\n",
       "\t 2017   & 238437\\\\\n",
       "\\end{tabular}\n"
      ],
      "text/markdown": [
       "\n",
       "| YEAR | Total_Freight |\n",
       "|---|---|\n",
       "| 2015   | 887378 |\n",
       "| 2016   | 892804 |\n",
       "| 2017   | 238437 |\n",
       "\n"
      ],
      "text/plain": [
       "  YEAR Total_Freight\n",
       "1 2015 887378       \n",
       "2 2016 892804       \n",
       "3 2017 238437       "
      ]
     },
     "metadata": {},
     "output_type": "display_data"
    }
   ],
   "source": [
    "#total Freight from india in year 2015, 2016 and 2017\n",
    "data1%>%\n",
    "  group_by(YEAR)%>%\n",
    "  summarise(Total_Freight=sum(FREIGHT.FROM.INDIA))"
   ]
  },
  {
   "cell_type": "code",
   "execution_count": 34,
   "id": "76215729",
   "metadata": {},
   "outputs": [
    {
     "data": {
      "text/html": [
       "<table>\n",
       "<thead><tr><th scope=col>AIRLINE.NAME</th><th scope=col>Total_Freight</th></tr></thead>\n",
       "<tbody>\n",
       "\t<tr><td>EMIRATES AIRLINE  </td><td>347579            </td></tr>\n",
       "\t<tr><td>JET AIRWAYS       </td><td>169015            </td></tr>\n",
       "\t<tr><td>QATAR AIRWAYS     </td><td>147356            </td></tr>\n",
       "\t<tr><td>AIR INDIA         </td><td>137331            </td></tr>\n",
       "\t<tr><td>CATHAY PACIFIC    </td><td>116731            </td></tr>\n",
       "\t<tr><td>ETIHAD AIRLINES   </td><td>107142            </td></tr>\n",
       "\t<tr><td>LUFTHANSA         </td><td> 88222            </td></tr>\n",
       "\t<tr><td>SINGAPORE AIRLINES</td><td> 82566            </td></tr>\n",
       "\t<tr><td>SAUDIA            </td><td> 67260            </td></tr>\n",
       "\t<tr><td>BRITISH AIRWAYS   </td><td> 66785            </td></tr>\n",
       "</tbody>\n",
       "</table>\n"
      ],
      "text/latex": [
       "\\begin{tabular}{r|ll}\n",
       " AIRLINE.NAME & Total\\_Freight\\\\\n",
       "\\hline\n",
       "\t EMIRATES AIRLINE   & 347579            \\\\\n",
       "\t JET AIRWAYS        & 169015            \\\\\n",
       "\t QATAR AIRWAYS      & 147356            \\\\\n",
       "\t AIR INDIA          & 137331            \\\\\n",
       "\t CATHAY PACIFIC     & 116731            \\\\\n",
       "\t ETIHAD AIRLINES    & 107142            \\\\\n",
       "\t LUFTHANSA          &  88222            \\\\\n",
       "\t SINGAPORE AIRLINES &  82566            \\\\\n",
       "\t SAUDIA             &  67260            \\\\\n",
       "\t BRITISH AIRWAYS    &  66785            \\\\\n",
       "\\end{tabular}\n"
      ],
      "text/markdown": [
       "\n",
       "| AIRLINE.NAME | Total_Freight |\n",
       "|---|---|\n",
       "| EMIRATES AIRLINE   | 347579             |\n",
       "| JET AIRWAYS        | 169015             |\n",
       "| QATAR AIRWAYS      | 147356             |\n",
       "| AIR INDIA          | 137331             |\n",
       "| CATHAY PACIFIC     | 116731             |\n",
       "| ETIHAD AIRLINES    | 107142             |\n",
       "| LUFTHANSA          |  88222             |\n",
       "| SINGAPORE AIRLINES |  82566             |\n",
       "| SAUDIA             |  67260             |\n",
       "| BRITISH AIRWAYS    |  66785             |\n",
       "\n"
      ],
      "text/plain": [
       "   AIRLINE.NAME       Total_Freight\n",
       "1  EMIRATES AIRLINE   347579       \n",
       "2  JET AIRWAYS        169015       \n",
       "3  QATAR AIRWAYS      147356       \n",
       "4  AIR INDIA          137331       \n",
       "5  CATHAY PACIFIC     116731       \n",
       "6  ETIHAD AIRLINES    107142       \n",
       "7  LUFTHANSA           88222       \n",
       "8  SINGAPORE AIRLINES  82566       \n",
       "9  SAUDIA              67260       \n",
       "10 BRITISH AIRWAYS     66785       "
      ]
     },
     "metadata": {},
     "output_type": "display_data"
    }
   ],
   "source": [
    "#Top 10 airlines with highest Freight from India\n",
    "d4<-data1%>%group_by(AIRLINE.NAME)%>%summarise(Total_Freight=sum(FREIGHT.FROM.INDIA))\n",
    "head(arrange(d4,desc(d4$Total_Freight)),10)"
   ]
  },
  {
   "cell_type": "code",
   "execution_count": 35,
   "id": "77b73f93",
   "metadata": {},
   "outputs": [
    {
     "data": {
      "text/html": [
       "<table>\n",
       "<thead><tr><th scope=col>YEAR</th><th scope=col>Q1</th><th scope=col>Q2</th><th scope=col>Q3</th><th scope=col>Q4</th></tr></thead>\n",
       "<tbody>\n",
       "\t<tr><td>2015  </td><td>213668</td><td>214620</td><td>205307</td><td>253783</td></tr>\n",
       "\t<tr><td>2016  </td><td>215744</td><td>231336</td><td>219572</td><td>226152</td></tr>\n",
       "\t<tr><td>2017  </td><td>238437</td><td>    NA</td><td>    NA</td><td>    NA</td></tr>\n",
       "</tbody>\n",
       "</table>\n"
      ],
      "text/latex": [
       "\\begin{tabular}{r|lllll}\n",
       " YEAR & Q1 & Q2 & Q3 & Q4\\\\\n",
       "\\hline\n",
       "\t 2015   & 213668 & 214620 & 205307 & 253783\\\\\n",
       "\t 2016   & 215744 & 231336 & 219572 & 226152\\\\\n",
       "\t 2017   & 238437 &     NA &     NA &     NA\\\\\n",
       "\\end{tabular}\n"
      ],
      "text/markdown": [
       "\n",
       "| YEAR | Q1 | Q2 | Q3 | Q4 |\n",
       "|---|---|---|---|---|\n",
       "| 2015   | 213668 | 214620 | 205307 | 253783 |\n",
       "| 2016   | 215744 | 231336 | 219572 | 226152 |\n",
       "| 2017   | 238437 |     NA |     NA |     NA |\n",
       "\n"
      ],
      "text/plain": [
       "  YEAR Q1     Q2     Q3     Q4    \n",
       "1 2015 213668 214620 205307 253783\n",
       "2 2016 215744 231336 219572 226152\n",
       "3 2017 238437     NA     NA     NA"
      ]
     },
     "metadata": {},
     "output_type": "display_data"
    }
   ],
   "source": [
    "#Total Freight from India Quarter wise\n",
    "data1%>%\n",
    "  group_by(QUARTER,YEAR)%>%\n",
    "  summarise(Total_Freight=sum(FREIGHT.FROM.INDIA))%>%\n",
    "  spread(key = QUARTER,value= Total_Freight)"
   ]
  },
  {
   "cell_type": "code",
   "execution_count": 36,
   "id": "81a6f029",
   "metadata": {},
   "outputs": [],
   "source": [
    "###Analysis on most common months and most common quarters for travel"
   ]
  },
  {
   "cell_type": "code",
   "execution_count": 37,
   "id": "95d37834",
   "metadata": {},
   "outputs": [
    {
     "data": {
      "image/png": "[encoded data removed]",
      "text/plain": [
       "plot without title"
      ]
     },
     "metadata": {},
     "output_type": "display_data"
    }
   ],
   "source": [
    "#Barplot on most common Months for Travel\n",
    "ggplot(data1,aes(x=MONTH,fill=MONTH))+\n",
    "  geom_bar(col=\"black\")+\n",
    "  theme_bw()+\n",
    "  coord_flip()+\n",
    "  labs(x=\"Month\", y=\"Count\") +\n",
    "  ggtitle(\"Most Common Month of Air Travel\")+\n",
    "  theme(legend.position = \"none\")"
   ]
  },
  {
   "cell_type": "code",
   "execution_count": 38,
   "id": "5236dc54",
   "metadata": {},
   "outputs": [
    {
     "data": {
      "image/png": "[encoded data removed]",
      "text/plain": [
       "plot without title"
      ]
     },
     "metadata": {},
     "output_type": "display_data"
    }
   ],
   "source": [
    "#Barplot on most common Quarter for Travel\n",
    "ggplot(data1,aes(x=QUARTER,fill=QUARTER))+\n",
    "  geom_bar(col=\"black\")+\n",
    "  theme_bw()+\n",
    "  coord_flip()+\n",
    "  labs(x=\"Month\", y=\"Count\") +\n",
    "  ggtitle(\"Most Common Quarter of Air Travel\")+\n",
    "  theme(legend.position = \"none\")"
   ]
  },
  {
   "cell_type": "code",
   "execution_count": 39,
   "id": "ccc9aa06",
   "metadata": {},
   "outputs": [],
   "source": [
    "###Bivariate Analysis"
   ]
  },
  {
   "cell_type": "code",
   "execution_count": 40,
   "id": "657c466d",
   "metadata": {},
   "outputs": [],
   "source": [
    "#Analysis on passengers to India and passengers from India\n",
    "\n",
    "c1<-data1%>%group_by(YEAR)%>%summarise(Total_Passenger=sum(PASSENGERS.TO.INDIA))\n",
    "c2<-data1%>%group_by(YEAR)%>%summarise(Total_Passenger=sum(PASSENGERS.FROM.INDIA))\n",
    "c1c2<-data.frame(Year=c1$YEAR,Passenger_to_India=c1$Total_Passenger,Passenger_from_India=c2$Total_Passenger)"
   ]
  },
  {
   "cell_type": "code",
   "execution_count": 41,
   "id": "df157b06",
   "metadata": {},
   "outputs": [
    {
     "data": {
      "image/png": "[encoded data removed]",
      "text/plain": [
       "plot without title"
      ]
     },
     "metadata": {},
     "output_type": "display_data"
    }
   ],
   "source": [
    "c1c2 %>%\n",
    "  gather(KEY,Passenger, Passenger_to_India, Passenger_from_India) %>%\n",
    "  ggplot(aes(x=Year,y=Passenger ,colour=KEY)) +\n",
    "  geom_line(lwd=1.5)+\n",
    "  geom_point(cex=4)+\n",
    "  theme_bw()+\n",
    "  ggtitle(\"Comparison b/w Passenger to india and Passenger from India\")+\n",
    "  scale_x_continuous(name = \"Year\", limits = c(2015, 2017), breaks = seq(2015, 2017, by = 1))"
   ]
  },
  {
   "cell_type": "code",
   "execution_count": 42,
   "id": "7db5e1d5",
   "metadata": {},
   "outputs": [
    {
     "data": {
      "image/png": "[encoded data removed]",
      "text/plain": [
       "plot without title"
      ]
     },
     "metadata": {},
     "output_type": "display_data"
    }
   ],
   "source": [
    "#Analysis on passengers to India and passengers from India with month\n",
    "\n",
    "#Passenger to India Month wise\n",
    "ggplot(data1, aes(x=MONTH, y=PASSENGERS.TO.INDIA,fill=MONTH)) +\n",
    "  geom_bar(stat=\"identity\") +\n",
    "  labs(title=\"Passenger To India Month Wise\", y=\"Count\")"
   ]
  },
  {
   "cell_type": "code",
   "execution_count": 43,
   "id": "ed533da1",
   "metadata": {},
   "outputs": [
    {
     "data": {
      "image/png": "[encoded data removed]",
      "text/plain": [
       "plot without title"
      ]
     },
     "metadata": {},
     "output_type": "display_data"
    }
   ],
   "source": [
    "#Passenger from India Month Wise\n",
    "ggplot(data1, aes(x=MONTH, y=PASSENGERS.FROM.INDIA,fill=MONTH)) +\n",
    "  geom_bar(stat=\"identity\") +\n",
    "  labs(title=\"Passenger From India Month Wise\", y=\"Count\")"
   ]
  },
  {
   "cell_type": "code",
   "execution_count": 44,
   "id": "8da53340",
   "metadata": {},
   "outputs": [
    {
     "data": {
      "image/png": "[encoded data removed]",
      "text/plain": [
       "plot without title"
      ]
     },
     "metadata": {},
     "output_type": "display_data"
    }
   ],
   "source": [
    "#Passenger to India Quarter wise\n",
    "ggplot(data1, aes(x=QUARTER, y=PASSENGERS.TO.INDIA,fill=QUARTER)) +\n",
    "  geom_bar(stat=\"identity\") +\n",
    "  labs(title=\"Passenger To India Quarter Wise\", y=\"Count\")"
   ]
  },
  {
   "cell_type": "code",
   "execution_count": 45,
   "id": "46247843",
   "metadata": {},
   "outputs": [
    {
     "data": {
      "image/png": "[encoded data removed]",
      "text/plain": [
       "plot without title"
      ]
     },
     "metadata": {},
     "output_type": "display_data"
    }
   ],
   "source": [
    "#Passenger from India Quarter wise\n",
    "ggplot(data1, aes(x=QUARTER, y=PASSENGERS.FROM.INDIA,fill=QUARTER)) +\n",
    "  geom_bar(stat=\"identity\") +\n",
    "  labs(title=\"Passenger From India Quarter Wise\", y=\"Count\")"
   ]
  },
  {
   "cell_type": "code",
   "execution_count": 46,
   "id": "8d727e23",
   "metadata": {},
   "outputs": [],
   "source": [
    "#Analysis on freight to India and freight from India "
   ]
  },
  {
   "cell_type": "code",
   "execution_count": 47,
   "id": "fb047c09",
   "metadata": {},
   "outputs": [
    {
     "data": {
      "image/png": "[encoded data removed]",
      "text/plain": [
       "plot without title"
      ]
     },
     "metadata": {},
     "output_type": "display_data"
    }
   ],
   "source": [
    "#Freight to India Month wise\n",
    "ggplot(data1, aes(x=MONTH, y=FREIGHT.TO.INDIA,fill=MONTH)) +\n",
    "  geom_bar(stat=\"identity\") +\n",
    "  labs(title=\"Freight To India Month Wise\", y=\"Count\")"
   ]
  },
  {
   "cell_type": "code",
   "execution_count": 48,
   "id": "d240d51e",
   "metadata": {},
   "outputs": [
    {
     "data": {
      "image/png": "[encoded data removed]",
      "text/plain": [
       "plot without title"
      ]
     },
     "metadata": {},
     "output_type": "display_data"
    }
   ],
   "source": [
    "#Freight from India Month wise\n",
    "ggplot(data1, aes(x=MONTH, y=FREIGHT.FROM.INDIA,fill=MONTH)) +\n",
    "  geom_bar(stat=\"identity\") +\n",
    "  labs(title=\"Freight From India Month Wise\", y=\"Count\")"
   ]
  },
  {
   "cell_type": "code",
   "execution_count": 49,
   "id": "b5e4bac2",
   "metadata": {},
   "outputs": [
    {
     "data": {
      "image/png": "[encoded data removed]",
      "text/plain": [
       "plot without title"
      ]
     },
     "metadata": {},
     "output_type": "display_data"
    }
   ],
   "source": [
    "#Freight to India Quarter wise\n",
    "ggplot(data1, aes(x=QUARTER, y=FREIGHT.TO.INDIA,fill=QUARTER)) +\n",
    "  geom_bar(stat=\"identity\") +\n",
    "  labs(title=\"Freight To India Quarter Wise\", y=\"Count\")"
   ]
  },
  {
   "cell_type": "code",
   "execution_count": 50,
   "id": "4d95c1b5",
   "metadata": {},
   "outputs": [
    {
     "data": {
      "image/png": "[encoded data removed]",
      "text/plain": [
       "plot without title"
      ]
     },
     "metadata": {},
     "output_type": "display_data"
    }
   ],
   "source": [
    "#Freight from India Quarter wise\n",
    "ggplot(data1, aes(x=QUARTER, y=FREIGHT.FROM.INDIA,fill=QUARTER)) +\n",
    "  geom_bar(stat=\"identity\") +\n",
    "  labs(title=\"Freight From India Quarter Wise\", y=\"Count\")"
   ]
  }
 ],
 "metadata": {
  "kernelspec": {
   "display_name": "R",
   "language": "R",
   "name": "ir"
  },
  "language_info": {
   "codemirror_mode": "r",
   "file_extension": ".r",
   "mimetype": "text/x-r-source",
   "name": "R",
   "pygments_lexer": "r",
   "version": "3.6.1"
  }
 },
 "nbformat": 4,
 "nbformat_minor": 5
}
